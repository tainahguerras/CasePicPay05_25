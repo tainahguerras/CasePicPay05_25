{
 "cells": [
  {
   "cell_type": "markdown",
   "id": "bb764d6d",
   "metadata": {},
   "source": [
    "### Tratamento e Manipulação dos dados"
   ]
  },
  {
   "cell_type": "markdown",
   "id": "2f145b83",
   "metadata": {},
   "source": [
    "As etapas deste notebook têm por objetivo garantir a integridade dos dados necessários para os cálculos da receita obtida em diferentes tipos de transações realizadas pelo PicPay, além de gerar arquivos em CSV com os resultados obtidos.\n",
    "\n",
    "As tarefas realizadas foram divididas em:\n",
    "1. Importação e inspeção dos dados\n",
    "2. Cálculos da tabela \"transactions\"\n",
    "3. Cálculos da tabela \"transactions_installments\"\n",
    "4. Criação e exportação do arquivo final"
   ]
  }
 ],
 "metadata": {
  "language_info": {
   "name": "python"
  }
 },
 "nbformat": 4,
 "nbformat_minor": 5
}
